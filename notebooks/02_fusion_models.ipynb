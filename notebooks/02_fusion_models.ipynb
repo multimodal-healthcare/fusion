{
 "cells": [
  {
   "cell_type": "code",
   "execution_count": 1,
   "metadata": {},
   "outputs": [],
   "source": [
    "from fastai.imports import *\n",
    "from lemonpie.basics import *\n",
    "from lemonpie.preprocessing import vocab\n",
    "from lemonpie.preprocessing.transform import *\n",
    "from lemonpie.data import *\n",
    "from lemonpie import models\n",
    "\n",
    "import torch\n",
    "import pytorch_lightning as pl"
   ]
  },
  {
   "cell_type": "code",
   "execution_count": 2,
   "metadata": {},
   "outputs": [],
   "source": [
    "COHERENT_DATA_STORE = '/home/vinod/code/datasets/coherent'\n",
    "COHERENT_DATAGEN_DATE = '08-10-2021'\n",
    "COHERENT_CONDITIONS = {\n",
    "    \"heart_failure\" : \"88805009\",\n",
    "    \"coronary_heart\" : \"53741008\",\n",
    "    \"myocardial_infarction\" : \"22298006\",\n",
    "    \"stroke\" : \"230690007\",\n",
    "    \"cardiac_arrest\" : \"410429000\"\n",
    "}"
   ]
  },
  {
   "cell_type": "code",
   "execution_count": 3,
   "metadata": {},
   "outputs": [
    {
     "data": {
      "text/plain": [
       "['heart_failure',\n",
       " 'coronary_heart',\n",
       " 'myocardial_infarction',\n",
       " 'stroke',\n",
       " 'cardiac_arrest']"
      ]
     },
     "execution_count": 3,
     "metadata": {},
     "output_type": "execute_result"
    }
   ],
   "source": [
    "COHERENT_LABELS = list(COHERENT_CONDITIONS.keys())\n",
    "COHERENT_LABELS"
   ]
  },
  {
   "cell_type": "markdown",
   "metadata": {},
   "source": [
    "# Get data"
   ]
  },
  {
   "cell_type": "code",
   "execution_count": 11,
   "id": "518ae1be-20ce-4e57-99b3-44dada24b413",
   "metadata": {},
   "outputs": [],
   "source": [
    "coherent_data = MultimodalEHRData(\n",
    "    COHERENT_DATA_STORE, \n",
    "    COHERENT_LABELS,     \n",
    "    age_start=240,\n",
    "    age_range=120,\n",
    "    start_is_date=False,\n",
    "    age_in_months=True, \n",
    "    lazy_load_gpu=True)"
   ]
  },
  {
   "cell_type": "code",
   "execution_count": 12,
   "metadata": {},
   "outputs": [],
   "source": [
    "demograph_dims, rec_dims, demograph_dims_wd, rec_dims_wd = vocab.get_all_emb_dims(vocab.EhrVocabList.load(COHERENT_DATA_STORE))\n",
    "dls, pos_wts = coherent_data.get_data()"
   ]
  },
  {
   "cell_type": "code",
   "execution_count": 13,
   "metadata": {},
   "outputs": [
    {
     "data": {
      "text/plain": [
       "{'train': ['0', '21', '30', '31', '11', '1', '20', '10'],\n",
       " 'valid': ['21', '30', '31', '11', '1', '20', '10'],\n",
       " 'test': ['21', '30', '31', '11', '1', '20', '10']}"
      ]
     },
     "execution_count": 13,
     "metadata": {},
     "output_type": "execute_result"
    }
   ],
   "source": [
    "coherent_data.modality_types"
   ]
  },
  {
   "cell_type": "code",
   "execution_count": 14,
   "metadata": {},
   "outputs": [
    {
     "data": {
      "text/plain": [
       "{'train': <torch.utils.data.dataloader.DataLoader at 0x7f32d59ec910>,\n",
       " 'valid': <torch.utils.data.dataloader.DataLoader at 0x7f32d59b3b50>,\n",
       " 'test': <torch.utils.data.dataloader.DataLoader at 0x7f32d58c40d0>}"
      ]
     },
     "execution_count": 14,
     "metadata": {},
     "output_type": "execute_result"
    }
   ],
   "source": [
    "dls"
   ]
  },
  {
   "cell_type": "code",
   "execution_count": 15,
   "metadata": {},
   "outputs": [],
   "source": [
    "train_dl = dls[\"train\"]\n",
    "valid_dl = dls[\"valid\"]\n",
    "test_dl = dls[\"test\"]"
   ]
  },
  {
   "cell_type": "markdown",
   "metadata": {},
   "source": [
    "# Models for each modality"
   ]
  },
  {
   "cell_type": "code",
   "execution_count": 44,
   "metadata": {},
   "outputs": [],
   "source": [
    "class UnimodalModel(torch.nn.Module):\n",
    "    def __init__(self, input_dims: tuple):\n",
    "        super().__init__()\n",
    "\n",
    "        # args\n",
    "        self.input_dims = input_dims\n",
    "\n",
    "        # model\n",
    "        self.model = nn.Sequential(nn.Linear(10, 20),\n",
    "                      nn.ReLU(),\n",
    "                      nn.Linear(20, 5),\n",
    "                      nn.Sigmoid())\n",
    "        \n",
    "    \n",
    "    def forward(self, x):\n",
    "        assert x[0].size() == self.input_dims\n",
    "        fake_x = torch.randn(10)\n",
    "        return self.model(fake_x)\n",
    "\n"
   ]
  },
  {
   "cell_type": "code",
   "execution_count": 46,
   "metadata": {},
   "outputs": [
    {
     "data": {
      "text/plain": [
       "tensor([0.4413, 0.4254, 0.5085, 0.3670, 0.5004], grad_fn=<SigmoidBackward0>)"
      ]
     },
     "execution_count": 46,
     "metadata": {},
     "output_type": "execute_result"
    }
   ],
   "source": [
    "mri_model = UnimodalModel((4,4))\n",
    "mri_model(torch.randn(64,4,4))"
   ]
  },
  {
   "cell_type": "code",
   "execution_count": 47,
   "metadata": {},
   "outputs": [
    {
     "data": {
      "text/plain": [
       "tensor([0.6357, 0.4934, 0.4595, 0.5790, 0.4097], grad_fn=<SigmoidBackward0>)"
      ]
     },
     "execution_count": 47,
     "metadata": {},
     "output_type": "execute_result"
    }
   ],
   "source": [
    "dna_model = UnimodalModel((3,2))\n",
    "dna_model(torch.randn(32,3,2))"
   ]
  },
  {
   "cell_type": "code",
   "execution_count": 51,
   "metadata": {},
   "outputs": [
    {
     "data": {
      "text/plain": [
       "tensor([0.5200, 0.4877, 0.4805, 0.5705, 0.4664], grad_fn=<SigmoidBackward0>)"
      ]
     },
     "execution_count": 51,
     "metadata": {},
     "output_type": "execute_result"
    }
   ],
   "source": [
    "ecg_model = UnimodalModel((5,))\n",
    "ecg_model(torch.randn((1,5,)))"
   ]
  },
  {
   "cell_type": "code",
   "execution_count": 55,
   "metadata": {},
   "outputs": [
    {
     "name": "stderr",
     "output_type": "stream",
     "text": [
      "/home/vinod/anaconda3/envs/lemonpie/lib/python3.8/site-packages/torchmetrics/utilities/prints.py:36: UserWarning: Metric `AUROC` will save all targets and predictions in buffer. For large datasets this may lead to large memory footprint.\n",
      "  warnings.warn(*args, **kwargs)\n",
      "Using 16bit native Automatic Mixed Precision (AMP)\n",
      "GPU available: True (cuda), used: True\n",
      "TPU available: False, using: 0 TPU cores\n",
      "IPU available: False, using: 0 IPUs\n",
      "HPU available: False, using: 0 HPUs\n"
     ]
    }
   ],
   "source": [
    "ehr_model = models.EHR_LSTM(\n",
    "    demograph_dims,\n",
    "    rec_dims,\n",
    "    demograph_dims_wd,\n",
    "    rec_dims_wd,\n",
    "    len(COHERENT_LABELS),\n",
    "    pos_wts[\"train\"], \n",
    "    pos_wts[\"valid\"],\n",
    "    optim=\"adam\",\n",
    "    base_lr=0.001,\n",
    ")\n",
    "ehr_trainer = pl.Trainer(precision=16, accelerator='gpu', devices=-1, max_epochs=5)\n",
    "# ehr_output = ehr_trainer.test(ehr_model, test_dl)"
   ]
  },
  {
   "cell_type": "markdown",
   "metadata": {},
   "source": [
    "# Late Fusion"
   ]
  },
  {
   "cell_type": "markdown",
   "metadata": {},
   "source": [
    "| Modality Type | Modalities            |   \n",
    "|---\t        |---\t                |\n",
    "| **0**\t        | **EHR**               |\n",
    "| **1**         | EHR + **MRI**         |\n",
    "| **10**        | EHR + **DNA**         |      \n",
    "| 11   \t        | EHR + MRI + DNA       |\n",
    "| **20**        | EHR + **ECG**         |\n",
    "| 21            | EHR + MRI + ECG       |\n",
    "| 30            | EHR + DNA + ECG       |\n",
    "| 31            | EHR + MRI + DNA + ECG |\n"
   ]
  },
  {
   "cell_type": "code",
   "execution_count": 80,
   "metadata": {},
   "outputs": [
    {
     "data": {
      "text/plain": [
       "[[ptid:1a82483d-7eb2-d5e0-1e1f-398ba129b18b, birthdate:1936-12-22, [('heart_failure', True), ('coronary_heart', False)].., device:cpu,\n",
       "  ptid:6dc8bd6b-e2a8-92bf-613d-8b477eb87d7c, birthdate:1911-12-23, [('heart_failure', True), ('coronary_heart', False)].., device:cpu,\n",
       "  ptid:844a37ff-ce26-6338-fd6a-0bc1e925a702, birthdate:1933-03-15, [('heart_failure', True), ('coronary_heart', False)].., device:cpu],\n",
       " tensor([[1., 0., 0., 0., 0.],\n",
       "         [1., 0., 0., 0., 0.],\n",
       "         [1., 0., 0., 0., 0.]]),\n",
       " [21, 21, 21],\n",
       " [tensor([[[1, 1, 1, 1],\n",
       "           [1, 1, 1, 1],\n",
       "           [1, 1, 1, 1],\n",
       "           [1, 1, 1, 1]],\n",
       "  \n",
       "          [[1, 1, 1, 1],\n",
       "           [1, 1, 1, 1],\n",
       "           [1, 1, 1, 1],\n",
       "           [1, 1, 1, 1]],\n",
       "  \n",
       "          [[1, 1, 1, 1],\n",
       "           [1, 1, 1, 1],\n",
       "           [1, 1, 1, 1],\n",
       "           [1, 1, 1, 1]]]),\n",
       "  tensor([[20, 20, 20, 20, 20],\n",
       "          [20, 20, 20, 20, 20],\n",
       "          [20, 20, 20, 20, 20]])]]"
      ]
     },
     "execution_count": 80,
     "metadata": {},
     "output_type": "execute_result"
    }
   ],
   "source": [
    "test_batch = next(iter(valid_dl))    \n",
    "test_batch"
   ]
  },
  {
   "cell_type": "code",
   "execution_count": 81,
   "metadata": {},
   "outputs": [],
   "source": [
    "pts, ys, mod_type, other = test_batch"
   ]
  },
  {
   "cell_type": "code",
   "execution_count": 82,
   "metadata": {},
   "outputs": [
    {
     "data": {
      "text/plain": [
       "tensor([0.4826, 0.5259, 0.4693, 0.5262, 0.4556], grad_fn=<MeanBackward1>)"
      ]
     },
     "execution_count": 82,
     "metadata": {},
     "output_type": "execute_result"
    }
   ],
   "source": [
    "output_list = []\n",
    "\n",
    "# output_list.append(ehr_model((pts, ys)))\n",
    "\n",
    "if mod_type[0] == 1:\n",
    "    mri_input = other \n",
    "    output_list.append(mri_model(mri_input))\n",
    "\n",
    "elif mod_type[0] == 10:\n",
    "    dna_input = other \n",
    "    output_list.append(dna_model(dna_input))\n",
    "    \n",
    "elif mod_type[0] == 11:\n",
    "    mri_input, dna_input = other \n",
    "    output_list.append(mri_model(mri_input))\n",
    "    output_list.append(dna_model(dna_input))\n",
    "\n",
    "elif mod_type[0] == 20:\n",
    "    ecg_input = other \n",
    "    output_list.append(ecg_model(ecg_input))\n",
    "\n",
    "elif mod_type[0] == 21:\n",
    "    mri_input, ecg_input = other \n",
    "    output_list.append(mri_model(mri_input))\n",
    "    output_list.append(ecg_model(ecg_input))\n",
    "\n",
    "elif mod_type[0] == 30:\n",
    "    dna_input, ecg_input = other \n",
    "    output_list.append(dna_model(dna_input))\n",
    "    output_list.append(ecg_model(ecg_input))\n",
    "\n",
    "elif mod_type[0] == 31:\n",
    "    mri_input, dna_input, ecg_input = other\n",
    "    output_list.append(mri_model(mri_input))\n",
    "    output_list.append(dna_model(dna_input))\n",
    "    output_list.append(ecg_model(ecg_input))\n",
    "\n",
    "\n",
    "torch.mean(torch.stack(output_list), dim=0)"
   ]
  },
  {
   "cell_type": "markdown",
   "metadata": {},
   "source": [
    "# Joint Fusion"
   ]
  },
  {
   "cell_type": "code",
   "execution_count": null,
   "metadata": {},
   "outputs": [],
   "source": [
    "class JointFusion(torch.nn.Module):\n",
    "    def __init__(self, mri_model, dna_model, ecg_model):\n",
    "        super().__init__()\n",
    "\n",
    "        # args\n",
    "        self.mri_model = mri_model\n",
    "        self.dna_model = dna_model\n",
    "        self.ecg_model = ecg_model\n",
    "\n",
    "        # model\n",
    "        self.model = nn.Sequential(nn.Linear(10, 20),\n",
    "                      nn.ReLU(),\n",
    "                      nn.Linear(20, 5),\n",
    "                      nn.Sigmoid())\n",
    "        \n",
    "    \n",
    "    def forward(self, x):\n",
    "        assert x.size() == self.input_dims\n",
    "        fake_x = torch.randn(10)\n",
    "        return self.model(fake_x)\n",
    "\n"
   ]
  },
  {
   "cell_type": "code",
   "execution_count": null,
   "metadata": {},
   "outputs": [],
   "source": []
  }
 ],
 "metadata": {
  "kernelspec": {
   "display_name": "Python 3.8.8 ('lemonpie')",
   "language": "python",
   "name": "python3"
  },
  "language_info": {
   "codemirror_mode": {
    "name": "ipython",
    "version": 3
   },
   "file_extension": ".py",
   "mimetype": "text/x-python",
   "name": "python",
   "nbconvert_exporter": "python",
   "pygments_lexer": "ipython3",
   "version": "3.8.8"
  },
  "orig_nbformat": 4,
  "vscode": {
   "interpreter": {
    "hash": "d5f90d37e0c39959df55936ee810057807de324814919599137c4c82f94e911f"
   }
  }
 },
 "nbformat": 4,
 "nbformat_minor": 2
}
