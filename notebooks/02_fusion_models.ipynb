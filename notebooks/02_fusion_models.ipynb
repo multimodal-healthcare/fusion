{
 "cells": [
  {
   "cell_type": "code",
   "execution_count": 31,
   "metadata": {},
   "outputs": [],
   "source": [
    "from fastai.imports import *\n",
    "from lemonpie.basics import *\n",
    "from lemonpie.preprocessing import vocab\n",
    "from lemonpie.preprocessing.transform import *\n",
    "from lemonpie.data import *\n",
    "from lemonpie import models\n",
    "\n",
    "import torch\n",
    "import pytorch_lightning as pl"
   ]
  },
  {
   "cell_type": "code",
   "execution_count": 2,
   "metadata": {},
   "outputs": [],
   "source": [
    "COHERENT_DATA_STORE = '/home/vinod/code/datasets/coherent'\n",
    "COHERENT_DATAGEN_DATE = '08-10-2021'\n",
    "COHERENT_CONDITIONS = {\n",
    "    \"heart_failure\" : \"88805009\",\n",
    "    \"coronary_heart\" : \"53741008\",\n",
    "    \"myocardial_infarction\" : \"22298006\",\n",
    "    \"stroke\" : \"230690007\",\n",
    "    \"cardiac_arrest\" : \"410429000\"\n",
    "}"
   ]
  },
  {
   "cell_type": "code",
   "execution_count": 3,
   "metadata": {},
   "outputs": [
    {
     "data": {
      "text/plain": [
       "['heart_failure',\n",
       " 'coronary_heart',\n",
       " 'myocardial_infarction',\n",
       " 'stroke',\n",
       " 'cardiac_arrest']"
      ]
     },
     "execution_count": 3,
     "metadata": {},
     "output_type": "execute_result"
    }
   ],
   "source": [
    "COHERENT_LABELS = list(COHERENT_CONDITIONS.keys())\n",
    "COHERENT_LABELS"
   ]
  },
  {
   "cell_type": "markdown",
   "metadata": {},
   "source": [
    "# Get data"
   ]
  },
  {
   "cell_type": "code",
   "execution_count": 4,
   "id": "518ae1be-20ce-4e57-99b3-44dada24b413",
   "metadata": {},
   "outputs": [],
   "source": [
    "coherent_data = MultimodalEHRData(\n",
    "    COHERENT_DATA_STORE, \n",
    "    COHERENT_LABELS,     \n",
    "    age_start=240,\n",
    "    age_range=120,\n",
    "    start_is_date=False,\n",
    "    age_in_months=True, \n",
    "    lazy_load_gpu=True)"
   ]
  },
  {
   "cell_type": "code",
   "execution_count": 5,
   "metadata": {},
   "outputs": [],
   "source": [
    "demograph_dims, rec_dims, demograph_dims_wd, rec_dims_wd = vocab.get_all_emb_dims(vocab.EhrVocabList.load(COHERENT_DATA_STORE))\n",
    "dls, pos_wts = coherent_data.get_data()"
   ]
  },
  {
   "cell_type": "code",
   "execution_count": 6,
   "metadata": {},
   "outputs": [
    {
     "data": {
      "text/plain": [
       "{'train': ['0', '21', '30', '31', '11', '1', '20', '10'],\n",
       " 'valid': ['21', '30', '31', '11', '1', '20', '10'],\n",
       " 'test': ['21', '30', '31', '11', '1', '20', '10']}"
      ]
     },
     "execution_count": 6,
     "metadata": {},
     "output_type": "execute_result"
    }
   ],
   "source": [
    "coherent_data.modality_types"
   ]
  },
  {
   "cell_type": "code",
   "execution_count": 7,
   "metadata": {},
   "outputs": [
    {
     "data": {
      "text/plain": [
       "{'train': <torch.utils.data.dataloader.DataLoader at 0x7fb4d3dc0340>,\n",
       " 'valid': <torch.utils.data.dataloader.DataLoader at 0x7fb4d3e1b880>,\n",
       " 'test': <torch.utils.data.dataloader.DataLoader at 0x7fb4d3dd90a0>}"
      ]
     },
     "execution_count": 7,
     "metadata": {},
     "output_type": "execute_result"
    }
   ],
   "source": [
    "dls"
   ]
  },
  {
   "cell_type": "code",
   "execution_count": 8,
   "metadata": {},
   "outputs": [],
   "source": [
    "train_dl = dls[\"train\"]\n",
    "valid_dl = dls[\"valid\"]\n",
    "test_dl = dls[\"test\"]"
   ]
  },
  {
   "cell_type": "markdown",
   "metadata": {},
   "source": [
    "# Models for each modality"
   ]
  },
  {
   "cell_type": "code",
   "execution_count": 9,
   "metadata": {},
   "outputs": [],
   "source": [
    "class UnimodalModel(torch.nn.Module):\n",
    "    def __init__(self, input_dims: tuple):\n",
    "        super().__init__()\n",
    "\n",
    "        # args\n",
    "        self.input_dims = input_dims\n",
    "\n",
    "        # model\n",
    "        self.model = nn.Sequential(nn.Linear(10, 20),\n",
    "                      nn.ReLU(),\n",
    "                      nn.Linear(20, 5),\n",
    "                      nn.Sigmoid())\n",
    "        \n",
    "    \n",
    "    def forward(self, x):\n",
    "        assert x[0].size() == self.input_dims\n",
    "        bs = len(x)\n",
    "        fake_x = torch.randn(bs, 10)\n",
    "        return self.model(fake_x)\n",
    "\n"
   ]
  },
  {
   "cell_type": "code",
   "execution_count": 10,
   "metadata": {},
   "outputs": [
    {
     "data": {
      "text/plain": [
       "tensor([[0.5871, 0.4717, 0.4356, 0.5364, 0.5261],\n",
       "        [0.5878, 0.5089, 0.4622, 0.5733, 0.5609],\n",
       "        [0.4698, 0.4853, 0.5092, 0.6191, 0.5108]], grad_fn=<SigmoidBackward0>)"
      ]
     },
     "execution_count": 10,
     "metadata": {},
     "output_type": "execute_result"
    }
   ],
   "source": [
    "mri_model = UnimodalModel((4,4))\n",
    "mri_model(torch.randn(3,4,4)) # batch_size=3"
   ]
  },
  {
   "cell_type": "code",
   "execution_count": 11,
   "metadata": {},
   "outputs": [
    {
     "data": {
      "text/plain": [
       "tensor([[0.5298, 0.4821, 0.4820, 0.5009, 0.5471],\n",
       "        [0.6797, 0.5119, 0.4718, 0.4024, 0.5689]], grad_fn=<SigmoidBackward0>)"
      ]
     },
     "execution_count": 11,
     "metadata": {},
     "output_type": "execute_result"
    }
   ],
   "source": [
    "dna_model = UnimodalModel((3,2))\n",
    "dna_model(torch.randn(2,3,2))"
   ]
  },
  {
   "cell_type": "code",
   "execution_count": 12,
   "metadata": {},
   "outputs": [
    {
     "data": {
      "text/plain": [
       "tensor([[0.4962, 0.5424, 0.5331, 0.4642, 0.5518],\n",
       "        [0.3958, 0.3892, 0.6022, 0.3669, 0.4795],\n",
       "        [0.4391, 0.5904, 0.5600, 0.5358, 0.6003],\n",
       "        [0.5202, 0.4764, 0.5483, 0.4702, 0.5856]], grad_fn=<SigmoidBackward0>)"
      ]
     },
     "execution_count": 12,
     "metadata": {},
     "output_type": "execute_result"
    }
   ],
   "source": [
    "ecg_model = UnimodalModel((5,))\n",
    "ecg_model(torch.randn((4,5,)))"
   ]
  },
  {
   "cell_type": "code",
   "execution_count": 13,
   "metadata": {},
   "outputs": [
    {
     "name": "stderr",
     "output_type": "stream",
     "text": [
      "/home/vinod/anaconda3/envs/lemonpie/lib/python3.8/site-packages/torchmetrics/utilities/prints.py:36: UserWarning: Metric `AUROC` will save all targets and predictions in buffer. For large datasets this may lead to large memory footprint.\n",
      "  warnings.warn(*args, **kwargs)\n",
      "Using 16bit native Automatic Mixed Precision (AMP)\n",
      "GPU available: True (cuda), used: True\n",
      "TPU available: False, using: 0 TPU cores\n",
      "IPU available: False, using: 0 IPUs\n",
      "HPU available: False, using: 0 HPUs\n"
     ]
    }
   ],
   "source": [
    "ehr_model = models.EHR_LSTM(\n",
    "    demograph_dims,\n",
    "    rec_dims,\n",
    "    demograph_dims_wd,\n",
    "    rec_dims_wd,\n",
    "    len(COHERENT_LABELS),\n",
    "    pos_wts[\"train\"], \n",
    "    pos_wts[\"valid\"],\n",
    "    optim=\"adam\",\n",
    "    base_lr=0.001,\n",
    ")\n",
    "ehr_trainer = pl.Trainer(precision=16, accelerator='gpu', devices=-1, max_epochs=5)\n",
    "# ehr_output = ehr_trainer.test(ehr_model, test_dl)"
   ]
  },
  {
   "cell_type": "markdown",
   "metadata": {},
   "source": [
    "# Late Fusion"
   ]
  },
  {
   "cell_type": "markdown",
   "metadata": {},
   "source": [
    "| Modality Type | Modalities            |   \n",
    "|---\t        |---\t                |\n",
    "| **0**\t        | **EHR**               |\n",
    "| **1**         | EHR + **MRI**         |\n",
    "| **10**        | EHR + **DNA**         |      \n",
    "| 11   \t        | EHR + MRI + DNA       |\n",
    "| **20**        | EHR + **ECG**         |\n",
    "| 21            | EHR + MRI + ECG       |\n",
    "| 30            | EHR + DNA + ECG       |\n",
    "| 31            | EHR + MRI + DNA + ECG |\n"
   ]
  },
  {
   "cell_type": "code",
   "execution_count": 16,
   "metadata": {},
   "outputs": [
    {
     "data": {
      "text/plain": [
       "[[ptid:1a82483d-7eb2-d5e0-1e1f-398ba129b18b, birthdate:1936-12-22, [('heart_failure', True), ('coronary_heart', False)].., device:cpu,\n",
       "  ptid:6dc8bd6b-e2a8-92bf-613d-8b477eb87d7c, birthdate:1911-12-23, [('heart_failure', True), ('coronary_heart', False)].., device:cpu,\n",
       "  ptid:844a37ff-ce26-6338-fd6a-0bc1e925a702, birthdate:1933-03-15, [('heart_failure', True), ('coronary_heart', False)].., device:cpu],\n",
       " tensor([[1., 0., 0., 0., 0.],\n",
       "         [1., 0., 0., 0., 0.],\n",
       "         [1., 0., 0., 0., 0.]]),\n",
       " [21, 21, 21],\n",
       " [tensor([[[1, 1, 1, 1],\n",
       "           [1, 1, 1, 1],\n",
       "           [1, 1, 1, 1],\n",
       "           [1, 1, 1, 1]],\n",
       "  \n",
       "          [[1, 1, 1, 1],\n",
       "           [1, 1, 1, 1],\n",
       "           [1, 1, 1, 1],\n",
       "           [1, 1, 1, 1]],\n",
       "  \n",
       "          [[1, 1, 1, 1],\n",
       "           [1, 1, 1, 1],\n",
       "           [1, 1, 1, 1],\n",
       "           [1, 1, 1, 1]]]),\n",
       "  tensor([[20, 20, 20, 20, 20],\n",
       "          [20, 20, 20, 20, 20],\n",
       "          [20, 20, 20, 20, 20]])]]"
      ]
     },
     "execution_count": 16,
     "metadata": {},
     "output_type": "execute_result"
    }
   ],
   "source": [
    "batch = next(iter(valid_dl))   \n",
    "batch"
   ]
  },
  {
   "cell_type": "code",
   "execution_count": 17,
   "metadata": {},
   "outputs": [],
   "source": [
    "pts, ys, mod_type, other = batch"
   ]
  },
  {
   "cell_type": "code",
   "execution_count": 30,
   "metadata": {},
   "outputs": [
    {
     "data": {
      "text/plain": [
       "tensor([[0.5097, 0.4871, 0.4612, 0.4247, 0.5785],\n",
       "        [0.4101, 0.5711, 0.6798, 0.4514, 0.6669],\n",
       "        [0.4152, 0.5649, 0.5485, 0.5303, 0.6301]], grad_fn=<SigmoidBackward0>)"
      ]
     },
     "execution_count": 30,
     "metadata": {},
     "output_type": "execute_result"
    }
   ],
   "source": [
    "torch.sigmoid(ehr_model(pts))"
   ]
  },
  {
   "cell_type": "code",
   "execution_count": 32,
   "metadata": {},
   "outputs": [],
   "source": [
    "mri_input, ecg_input = other"
   ]
  },
  {
   "cell_type": "code",
   "execution_count": 33,
   "metadata": {},
   "outputs": [
    {
     "data": {
      "text/plain": [
       "tensor([[0.6033, 0.4849, 0.4188, 0.5446, 0.5866],\n",
       "        [0.5750, 0.4802, 0.4644, 0.5487, 0.5825],\n",
       "        [0.4990, 0.4340, 0.4549, 0.5617, 0.3821]], grad_fn=<SigmoidBackward0>)"
      ]
     },
     "execution_count": 33,
     "metadata": {},
     "output_type": "execute_result"
    }
   ],
   "source": [
    "mri_model(mri_input)"
   ]
  },
  {
   "cell_type": "code",
   "execution_count": 34,
   "metadata": {},
   "outputs": [
    {
     "data": {
      "text/plain": [
       "tensor([[0.4335, 0.5439, 0.5146, 0.4945, 0.5128],\n",
       "        [0.5305, 0.4065, 0.6597, 0.3474, 0.5529],\n",
       "        [0.4288, 0.5427, 0.4915, 0.5302, 0.6858]], grad_fn=<SigmoidBackward0>)"
      ]
     },
     "execution_count": 34,
     "metadata": {},
     "output_type": "execute_result"
    }
   ],
   "source": [
    "ecg_model(ecg_input)"
   ]
  },
  {
   "cell_type": "code",
   "execution_count": 60,
   "metadata": {},
   "outputs": [],
   "source": [
    "def run_late_fusion(dl, verbose=False):\n",
    "\n",
    "    all_batches = []\n",
    "    total_length = 0\n",
    "\n",
    "    for batch in dl:\n",
    "\n",
    "        batch_output = []\n",
    "        pts, ys, mod_type, other = batch\n",
    "        \n",
    "        total_length += len(pts)\n",
    "        if verbose:\n",
    "            print(f\"modality: {mod_type[0]}, length: {len(pts)}, first ptid: {pts[0].ptid}\")\n",
    "\n",
    "        batch_output.append(torch.sigmoid(ehr_model(pts)))\n",
    "\n",
    "        if mod_type[0] == 1:\n",
    "            mri_input = other \n",
    "            batch_output.append(mri_model(mri_input))\n",
    "\n",
    "        elif mod_type[0] == 10:\n",
    "            dna_input = other \n",
    "            batch_output.append(dna_model(dna_input))\n",
    "            \n",
    "        elif mod_type[0] == 11:\n",
    "            mri_input, dna_input = other \n",
    "            batch_output.append(mri_model(mri_input))\n",
    "            batch_output.append(dna_model(dna_input))\n",
    "\n",
    "        elif mod_type[0] == 20:\n",
    "            ecg_input = other \n",
    "            batch_output.append(ecg_model(ecg_input))\n",
    "\n",
    "        elif mod_type[0] == 21:\n",
    "            mri_input, ecg_input = other \n",
    "            batch_output.append(mri_model(mri_input))\n",
    "            batch_output.append(ecg_model(ecg_input))\n",
    "\n",
    "        elif mod_type[0] == 30:\n",
    "            dna_input, ecg_input = other \n",
    "            batch_output.append(dna_model(dna_input))\n",
    "            batch_output.append(ecg_model(ecg_input))\n",
    "\n",
    "        elif mod_type[0] == 31:\n",
    "            mri_input, dna_input, ecg_input = other\n",
    "            batch_output.append(mri_model(mri_input))\n",
    "            batch_output.append(dna_model(dna_input))\n",
    "            batch_output.append(ecg_model(ecg_input))\n",
    "\n",
    "        # avg across multimodal models for every patient in batch\n",
    "        avgd = torch.mean(torch.stack(batch_output), dim=0)         \n",
    "        all_batches.append(avgd)\n",
    "\n",
    "\n",
    "    print(f\"Completed {total_length} patients.\")\n",
    "\n",
    "    # flatten across batches - list of lists (batches) to flat\n",
    "    output = [pt for batch in all_batches for pt in batch]\n",
    "    return output"
   ]
  },
  {
   "cell_type": "code",
   "execution_count": 65,
   "metadata": {},
   "outputs": [
    {
     "name": "stdout",
     "output_type": "stream",
     "text": [
      "Completed 128 patients.\n"
     ]
    }
   ],
   "source": [
    "test_result = run_late_fusion(test_dl)"
   ]
  },
  {
   "cell_type": "code",
   "execution_count": 63,
   "metadata": {},
   "outputs": [
    {
     "name": "stdout",
     "output_type": "stream",
     "text": [
      "modality: 21, length: 3, first ptid: 1a82483d-7eb2-d5e0-1e1f-398ba129b18b\n",
      "modality: 30, length: 13, first ptid: 2e1cf98c-70ce-4f8f-36da-b2eef4960ecc\n",
      "modality: 31, length: 2, first ptid: 4a1a224f-54d6-66f1-3755-4c8489f2a5de\n",
      "modality: 11, length: 14, first ptid: aead835e-66f2-d3b9-099c-c33844a70748\n",
      "modality: 1, length: 12, first ptid: 972f6a59-3921-36bc-64bb-253d6241748b\n",
      "modality: 20, length: 34, first ptid: e1875ec6-e10f-c9d8-d388-fd3abfbc4a87\n",
      "modality: 10, length: 50, first ptid: 1e73e6da-68f0-0ffc-4062-a4647b5b67c4\n",
      "Completed 128 patients.\n"
     ]
    }
   ],
   "source": [
    "valid_result = run_late_fusion(valid_dl, verbose=True)"
   ]
  },
  {
   "cell_type": "code",
   "execution_count": 64,
   "metadata": {},
   "outputs": [
    {
     "name": "stdout",
     "output_type": "stream",
     "text": [
      "Completed 1022 patients.\n"
     ]
    }
   ],
   "source": [
    "train_result = run_late_fusion(train_dl)"
   ]
  },
  {
   "cell_type": "code",
   "execution_count": 66,
   "metadata": {},
   "outputs": [],
   "source": [
    "assert len(test_result) == len(valid_result) == 128\n",
    "assert len(train_result) == 1022"
   ]
  },
  {
   "cell_type": "markdown",
   "metadata": {},
   "source": [
    "# Joint Fusion"
   ]
  },
  {
   "cell_type": "code",
   "execution_count": null,
   "metadata": {},
   "outputs": [],
   "source": [
    "class JointFusion(torch.nn.Module):\n",
    "    def __init__(self, mri_model, dna_model, ecg_model):\n",
    "        super().__init__()\n",
    "\n",
    "        # args\n",
    "        self.mri_model = mri_model\n",
    "        self.dna_model = dna_model\n",
    "        self.ecg_model = ecg_model\n",
    "\n",
    "        # model\n",
    "        self.model = nn.Sequential(nn.Linear(10, 20),\n",
    "                      nn.ReLU(),\n",
    "                      nn.Linear(20, 5),\n",
    "                      nn.Sigmoid())\n",
    "        \n",
    "    \n",
    "    def forward(self, x):\n",
    "        assert x.size() == self.input_dims\n",
    "        fake_x = torch.randn(10)\n",
    "        return self.model(fake_x)\n",
    "\n"
   ]
  },
  {
   "cell_type": "code",
   "execution_count": null,
   "metadata": {},
   "outputs": [],
   "source": []
  }
 ],
 "metadata": {
  "kernelspec": {
   "display_name": "Python 3.8.8 ('lemonpie')",
   "language": "python",
   "name": "python3"
  },
  "language_info": {
   "codemirror_mode": {
    "name": "ipython",
    "version": 3
   },
   "file_extension": ".py",
   "mimetype": "text/x-python",
   "name": "python",
   "nbconvert_exporter": "python",
   "pygments_lexer": "ipython3",
   "version": "3.8.8"
  },
  "orig_nbformat": 4,
  "vscode": {
   "interpreter": {
    "hash": "d5f90d37e0c39959df55936ee810057807de324814919599137c4c82f94e911f"
   }
  }
 },
 "nbformat": 4,
 "nbformat_minor": 2
}
